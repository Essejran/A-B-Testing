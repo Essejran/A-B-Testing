{
 "cells": [
  {
   "cell_type": "markdown",
   "metadata": {},
   "source": [
    "# 🧪 Bayesian A/B Testing: Conversion Rates\n",
    "\n",
    "This notebook simulates A/B test results and applies a Bayesian method to estimate the probability that the variant (B) is better than the control (A)."
   ]
  },
  {
   "cell_type": "code",
   "execution_count": null,
   "metadata": {},
   "outputs": [],
   "source": [
    "# Imports\n",
    "import numpy as np\n",
    "import matplotlib.pyplot as plt\n",
    "import seaborn as sns\n",
    "\n",
    "# For reproducibility\n",
    "np.random.seed(42)"
   ]
  },
  {
   "cell_type": "markdown",
   "metadata": {},
   "source": [
    "## 🎲 Simulate Conversion Data"
   ]
  },
  {
   "cell_type": "code",
   "execution_count": null,
   "metadata": {},
   "outputs": [],
   "source": [
    "# Simulated data: binomial observations\n",
    "n_A = 1000\n",
    "conversions_A = 120\n",
    "\n",
    "n_B = 1000\n",
    "conversions_B = 138\n",
    "\n",
    "print(f\"A: {conversions_A}/{n_A} ({conversions_A/n_A:.2%})\")\n",
    "print(f\"B: {conversions_B}/{n_B} ({conversions_B/n_B:.2%})\")"
   ]
  },
  {
   "cell_type": "markdown",
   "metadata": {},
   "source": [
    "## 📐 Bayesian Posterior Sampling (Beta Priors)"
   ]
  },
  {
   "cell_type": "code",
   "execution_count": null,
   "metadata": {},
   "outputs": [],
   "source": [
    "# Prior: Beta(1, 1) — uniform prior (non-informative)\n",
    "# Posterior: Beta(alpha + successes, beta + failures)\n",
    "\n",
    "samples = 100000\n",
    "posterior_A = np.random.beta(1 + conversions_A, 1 + n_A - conversions_A, samples)\n",
    "posterior_B = np.random.beta(1 + conversions_B, 1 + n_B - conversions_B, samples)\n",
    "\n",
    "# Probability that B > A\n",
    "prob_B_better = np.mean(posterior_B > posterior_A)\n",
    "lift = (posterior_B - posterior_A) / posterior_A\n",
    "\n",
    "print(f\"P(B > A): {prob_B_better:.3f}\")\n",
    "print(f\"Mean relative lift: {np.mean(lift)*100:.2f}%\")"
   ]
  },
  {
   "cell_type": "markdown",
   "metadata": {},
   "source": [
    "## 📊 Visualize Posterior Distributions"
   ]
  },
  {
   "cell_type": "code",
   "execution_count": null,
   "metadata": {},
   "outputs": [],
   "source": [
    "plt.figure(figsize=(10, 6))\n",
    "sns.kdeplot(posterior_A, label=\"Control (A)\", fill=True)\n",
    "sns.kdeplot(posterior_B, label=\"Variant (B)\", fill=True)\n",
    "plt.axvline(np.mean(posterior_A), color='blue', linestyle='--', label='Mean A')\n",
    "plt.axvline(np.mean(posterior_B), color='orange', linestyle='--', label='Mean B')\n",
    "plt.title(\"Posterior Distributions of Conversion Rates\")\n",
    "plt.xlabel(\"Conversion Rate\")\n",
    "plt.ylabel(\"Density\")\n",
    "plt.legend()\n",
    "plt.grid(True)\n",
    "plt.show()"
   ]
  },
  {
   "cell_type": "markdown",
   "metadata": {},
   "source": [
    "## 🎯 Interpretation\n",
    "\n",
    "- The posterior probability that B is better than A is `P(B > A)`.\n",
    "- If this probability is high (e.g., > 95%), we might decide B is a worthwhile improvement.\n",
    "- The *lift* shows how much better B performs than A on average.\n",
    "\n",
    "In this simulation, the difference is not dramatic. A product decision might still depend on cost, user experience, and business goals."
   ]
  }
 ],
 "metadata": {
  "kernelspec": {
   "display_name": "Python 3",
   "language": "python",
   "name": "python3"
  },
  "language_info": {
   "name": "python",
   "version": ""
  }
 },
 "nbformat": 4,
 "nbformat_minor": 5
}
