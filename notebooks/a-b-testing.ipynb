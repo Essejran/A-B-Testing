{
 "cells": [
  {
   "cell_type": "markdown",
   "metadata": {},
   "source": [
    "# 🧪 A/B Test: Conversion Rate Comparison\n",
    "This notebook analyzes binary outcome data for a control and variant group to determine whether the new version leads to significantly higher conversion rates."
   ]
  },
  {
   "cell_type": "code",
   "execution_count": null,
   "metadata": {},
   "outputs": [],
   "source": [
    "import pandas as pd\n",
    "import numpy as np\n",
    "from scipy import stats\n",
    "import seaborn as sns\n",
    "import matplotlib.pyplot as plt"
   ]
  },
  {
   "cell_type": "code",
   "execution_count": null,
   "metadata": {},
   "outputs": [],
   "source": [
    "# Load the data\n",
    "df = pd.read_csv('ab_test_binary.csv')\n",
    "df.head()"
   ]
  },
  {
   "cell_type": "code",
   "execution_count": null,
   "metadata": {},
   "outputs": [],
   "source": [
    "# Check conversion rates by group\n",
    "summary = df.groupby('group')['converted'].agg(['count', 'sum', 'mean'])\n",
    "summary.columns = ['n', 'conversions', 'conversion_rate']\n",
    "summary"
   ]
  },
  {
   "cell_type": "code",
   "execution_count": null,
   "metadata": {},
   "outputs": [],
   "source": [
    "# Extract values for z-test\n",
    "control = df[df['group'] == 'control']['converted']\n",
    "variant = df[df['group'] == 'variant']['converted']\n",
    "\n",
    "# Conversion rates\n",
    "p1 = control.mean()\n",
    "p2 = variant.mean()\n",
    "\n",
    "# Sample sizes\n",
    "n1 = control.count()\n",
    "n2 = variant.count()\n",
    "\n",
    "# Pooled proportion and standard error\n",
    "p_pool = (p1 * n1 + p2 * n2) / (n1 + n2)\n",
    "se = np.sqrt(p_pool * (1 - p_pool) * (1/n1 + 1/n2))\n",
    "\n",
    "# Z-score and p-value (two-tailed)\n",
    "z_score = (p2 - p1) / se\n",
    "p_value = 2 * (1 - stats.norm.cdf(abs(z_score)))\n",
    "\n",
    "print(f\"Z-Score: {z_score:.4f}, P-Value: {p_value:.4f}\")"
   ]
  },
  {
   "cell_type": "code",
   "execution_count": null,
   "metadata": {},
   "outputs": [],
   "source": [
    "# Plot conversion rates\n",
    "sns.barplot(data=df, x='group', y='converted', ci=95)\n",
    "plt.title('Conversion Rate by Group')\n",
    "plt.ylabel('Conversion Rate')\n",
    "plt.show()"
   ]
  },
  {
   "cell_type": "markdown",
   "metadata": {},
   "source": [
    "## 📊 Interpretation\n",
    "- If the p-value is below 0.05, the difference in conversion rates is **statistically significant**.\n",
    "- If not, we **fail to reject** the null hypothesis and cannot conclude a meaningful difference.\n",
    "\n",
    "👔 Business Action: If the variant performs significantly better, consider rolling out the new version to all users. If not, investigate further or run additional tests."
   ]
  }
 ],
 "metadata": {
  "kernelspec": {
   "display_name": "Python 3",
   "language": "python",
   "name": "python3"
  },
  "language_info": {
   "name": "python",
   "version": ""
  }
 },
 "nbformat": 4,
 "nbformat_minor": 5
}
